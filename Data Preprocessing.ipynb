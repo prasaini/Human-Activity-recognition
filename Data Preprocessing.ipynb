{
 "cells": [
  {
   "cell_type": "code",
   "execution_count": 1,
   "id": "b6bd72bc",
   "metadata": {},
   "outputs": [],
   "source": [
    "# Importing Essential Libraries\n",
    "import os\n",
    "import cv2\n",
    "import glob\n",
    "import random\n",
    "from tqdm import tqdm"
   ]
  },
  {
   "cell_type": "code",
   "execution_count": null,
   "id": "8a0a9abf",
   "metadata": {},
   "outputs": [],
   "source": [
    "# Required Parameters\n",
    "dataset = \"C:/Users/saini/Desktop/PROJECT/action_youtube_naudio/\"          # Dataset path\n",
    "dataset2 = \"C:/Users/saini/Desktop/PROJECT/UCF_11/\"                   # Dataset2 path\n",
    "train_path = \"C:/Users/saini/Desktop/PROJECT/training/\"            # Training path\n",
    "test_path = \"C:/Users/saini/Desktop/PROJECT/testing/\"              # Testing path\n",
    "no_of_frames = 2200                   # Total number of frames to be extracted\n",
    "categories = os.listdir(dataset)        # Name of each class/category"
   ]
  },
  {
   "cell_type": "code",
   "execution_count": null,
   "id": "2004031e",
   "metadata": {},
   "outputs": [],
   "source": [
    "# Creating dataset directory\n",
    "try:\n",
    "    os.mkdir(dataset2)\n",
    "    print(\"Folder {} created...\".format(dataset2))\n",
    "except:\n",
    "    print(\"A folder {} already exists...\".format(dataset2))"
   ]
  },
  {
   "cell_type": "code",
   "execution_count": null,
   "id": "cdcc9f9a",
   "metadata": {},
   "outputs": [],
   "source": [
    "categories"
   ]
  },
  {
   "cell_type": "code",
   "execution_count": null,
   "id": "2f9f2380",
   "metadata": {},
   "outputs": [],
   "source": [
    "# Creating training_set directory\n",
    "try:\n",
    "    os.mkdir(train_path)\n",
    "    print(\"Folder {} created...\".format(train_path))\n",
    "except:\n",
    "    print(\"A folder {} already exists...\".format(train_path))\n"
   ]
  },
  {
   "cell_type": "code",
   "execution_count": null,
   "id": "223dd394",
   "metadata": {},
   "outputs": [],
   "source": [
    "os.getcwd()"
   ]
  },
  {
   "cell_type": "code",
   "execution_count": null,
   "id": "ce89d0f6",
   "metadata": {},
   "outputs": [],
   "source": [
    "# Creating testing_set directory\n",
    "try:\n",
    "    os.mkdir(test_path)\n",
    "    print(\"Folder {} created...\".format(test_path))\n",
    "except:\n",
    "    print(\"A folder {} already exists...\".format(test_path))"
   ]
  },
  {
   "cell_type": "code",
   "execution_count": null,
   "id": "6203ba67",
   "metadata": {},
   "outputs": [],
   "source": [
    "# Creating same directories for dataset2/ that are already present in the dataset directory\n",
    "for category in categories:\n",
    "    try:\n",
    "        os.mkdir(dataset2 + category)\n",
    "        print(\"Folder {} created...\".format(category))\n",
    "    except:\n",
    "        print(\"A folder already exists, named {}...\".format(category, dataset))"
   ]
  },
  {
   "cell_type": "code",
   "execution_count": null,
   "id": "ca09a1d5",
   "metadata": {},
   "outputs": [],
   "source": [
    "# Creating same directories for training_set/ that are already present in the dataset directory\n",
    "for category in categories:\n",
    "    try:\n",
    "        os.mkdir(train_path + category)\n",
    "        print(\"Folder {} created...\".format(category))\n",
    "    except:\n",
    "        print(\"A folder already exists, named {}...\".format(category, train_path))"
   ]
  },
  {
   "cell_type": "code",
   "execution_count": null,
   "id": "a4a217d6",
   "metadata": {},
   "outputs": [],
   "source": [
    "# Creating same directories for testing_set/ that are already present in the dataset directory\n",
    "for category in categories:\n",
    "    try:\n",
    "        os.mkdir(test_path  + category)\n",
    "        print(\"Folder {} created...\".format(category))\n",
    "    except:\n",
    "        print(\"A folder already exists, named {}...\".format(category, test_path))"
   ]
  },
  {
   "cell_type": "code",
   "execution_count": null,
   "id": "d9dcede8",
   "metadata": {},
   "outputs": [],
   "source": [
    "# Combining multiple videos into single video file\n",
    "for category in tqdm(categories):\n",
    "    videofiles = [dataset + category + \"/\" + n for n in os.listdir(dataset + category) if n[-4:]==\".avi\"]\n",
    "    video_index = 0\n",
    "    cap = cv2.VideoCapture(videofiles[0])    \n",
    "    fourcc = cv2.VideoWriter_fourcc(*\"XVID\")\n",
    "    # fourcc = cv2.VideoWriter_fourcc(*'MP4V')\n",
    "    out = cv2.VideoWriter(\"{}/{}/{}.avi\".format(dataset2, category, category), fourcc, 25, (320, 240))\n",
    "    while(cap.isOpened()):\n",
    "        ret, frame = cap.read()\n",
    "        if frame is None:\n",
    "            video_index += 1\n",
    "            if video_index >= len(videofiles):\n",
    "                break\n",
    "            else:\n",
    "                cap = cv2.VideoCapture(videofiles[ video_index ])\n",
    "                ret, frame = cap.read()\n",
    "                out.write(frame)\n",
    "        else:\n",
    "            out.write(frame)\n",
    "    cap.release()\n",
    "    out.release()\n",
    "    cv2.destroyAllWindows()"
   ]
  },
  {
   "cell_type": "code",
   "execution_count": null,
   "id": "0af19fdd",
   "metadata": {},
   "outputs": [],
   "source": [
    "videofiles"
   ]
  },
  {
   "cell_type": "code",
   "execution_count": null,
   "id": "fd89456d",
   "metadata": {},
   "outputs": [],
   "source": [
    "# Saving total no. of frames of each classes/categories into an array\n",
    "total_frames = []\n",
    "for category in tqdm(categories):\n",
    "    cap = cv2.VideoCapture(dataset2 + category + \"/\" + category + \".avi\")\n",
    "    length = int(cap.get(cv2.CAP_PROP_FRAME_COUNT))\n",
    "    total_frames.append(length)\n",
    "    cap.release()\n",
    "    cv2.destroyAllWindows()\n",
    "print(total_frames)"
   ]
  },
  {
   "cell_type": "code",
   "execution_count": null,
   "id": "ebea4048",
   "metadata": {},
   "outputs": [],
   "source": [
    "# Extracting 1650 images from each category\n",
    "for category in tqdm(categories):\n",
    "    a = glob.glob(dataset2 + category + '/*.avi')\n",
    "    for i in range(len(a)):\n",
    "        count = 0\n",
    "        cap = cv2.VideoCapture(a[0])\n",
    "        while(cap.isOpened()):\n",
    "            frame_id = cap.get(1)\n",
    "            ret, frame = cap.read()\n",
    "            if ret != True:\n",
    "                print(\"Exiting...\")\n",
    "                break\n",
    "            if frame_id % int(total_frames[categories.index(category)] / no_of_frames) == 0.0:\n",
    "                if count >= no_of_frames:\n",
    "                    break\n",
    "                file_name = train_path + category + '/frame_{}.jpg'.format(count); count += 1;\n",
    "                cv2.imwrite(file_name, frame)\n",
    "        cap.release()\n",
    "        cv2.destroyAllWindows()"
   ]
  },
  {
   "cell_type": "code",
   "execution_count": null,
   "id": "fb93488b",
   "metadata": {},
   "outputs": [],
   "source": [
    "# Moving 150 random images from training_set into testing_set\n",
    "for category in tqdm(categories):\n",
    "    sub_file = [file for file in glob.glob(train_path + category + \"/*\")]\n",
    "    test_files = random.sample(sub_file, 150)\n",
    "    for test_file in test_files:\n",
    "        img = cv2.imread(test_file)\n",
    "        os.remove(test_file)\n",
    "        cv2.imwrite(test_path + category + '/' + test_file.split(\"_\")[-1] , img)"
   ]
  },
  {
   "cell_type": "code",
   "execution_count": null,
   "id": "39615045",
   "metadata": {},
   "outputs": [],
   "source": [
    "test_file"
   ]
  },
  {
   "cell_type": "code",
   "execution_count": null,
   "id": "782682c7",
   "metadata": {},
   "outputs": [],
   "source": [
    "# Counting number of images in each folder of training and testing set\n",
    "for category in categories:\n",
    "    print(len(os.listdir(train_path + category)), \"in training &\",\n",
    "          len(os.listdir(test_path + category)), \"in testing\", \":\", category)"
   ]
  },
  {
   "cell_type": "code",
   "execution_count": null,
   "id": "8d264708",
   "metadata": {},
   "outputs": [],
   "source": []
  }
 ],
 "metadata": {
  "kernelspec": {
   "display_name": "Python 3 (ipykernel)",
   "language": "python",
   "name": "python3"
  },
  "language_info": {
   "codemirror_mode": {
    "name": "ipython",
    "version": 3
   },
   "file_extension": ".py",
   "mimetype": "text/x-python",
   "name": "python",
   "nbconvert_exporter": "python",
   "pygments_lexer": "ipython3",
   "version": "3.9.7"
  }
 },
 "nbformat": 4,
 "nbformat_minor": 5
}
